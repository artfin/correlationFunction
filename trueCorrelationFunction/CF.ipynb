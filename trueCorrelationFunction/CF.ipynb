{
 "cells": [
  {
   "cell_type": "code",
   "execution_count": 2,
   "metadata": {},
   "outputs": [],
   "source": [
    "%matplotlib notebook\n",
    "\n",
    "import numpy as np\n",
    "import matplotlib.pyplot as plt"
   ]
  },
  {
   "cell_type": "code",
   "execution_count": 3,
   "metadata": {},
   "outputs": [],
   "source": [
    "ATU = 2.418884326505e-17\n",
    "\n",
    "cf = np.loadtxt(\"./CF.dat\")\n",
    "\n",
    "# переводим единицы измерения в с\n",
    "cf[:,0] *= ATU\n",
    "\n",
    "# нормируем значения функции на правильный максимум\n",
    "cf[:,1] /= cf[0,1]\n",
    "cf[:,1] *= 2.72104e-33 # ratio * Volume из readme в dipole_integral\n",
    "\n",
    "np.savetxt(\"./CF_norm.dat\", cf)"
   ]
  }
 ],
 "metadata": {
  "kernelspec": {
   "display_name": "Python 2",
   "language": "python",
   "name": "python2"
  },
  "language_info": {
   "codemirror_mode": {
    "name": "ipython",
    "version": 2
   },
   "file_extension": ".py",
   "mimetype": "text/x-python",
   "name": "python",
   "nbconvert_exporter": "python",
   "pygments_lexer": "ipython2",
   "version": "2.7.12"
  }
 },
 "nbformat": 4,
 "nbformat_minor": 2
}
